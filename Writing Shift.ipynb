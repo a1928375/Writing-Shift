{
 "cells": [
  {
   "cell_type": "markdown",
   "metadata": {},
   "source": [
    "# Mine\n",
    "# logic反"
   ]
  },
  {
   "cell_type": "code",
   "execution_count": 1,
   "metadata": {},
   "outputs": [
    {
     "name": "stdout",
     "output_type": "stream",
     "text": [
      "True\n",
      "True\n",
      "True\n",
      "True\n"
     ]
    }
   ],
   "source": [
    "def shift (tokens, i, x, ab, cd, j):\n",
    "    \n",
    "    if cd == []:\n",
    "        \n",
    "        return None\n",
    "    \n",
    "    elif ab == tokens[0:i] and cd[0] == tokens[i]:\n",
    "        \n",
    "        if len(cd) == 1:\n",
    "            \n",
    "            return (x, tokens[0:i+1], [], j)\n",
    "        \n",
    "        else:\n",
    "            \n",
    "            return (x, tokens[0:i+1], cd[i+1:], j)\n",
    "        \n",
    "print (shift([\"exp\",\"+\",\"exp\"],2,\"exp\",[\"exp\",\"+\"],[\"exp\"],0) == ('exp', ['exp', '+', 'exp'], [], 0))\n",
    "print (shift([\"exp\",\"+\",\"exp\"],0,\"exp\",[],[\"exp\",\"+\",\"exp\"],0) == ('exp', ['exp'], ['+', 'exp'], 0))\n",
    "print (shift([\"exp\",\"+\",\"exp\"],3,\"exp\",[\"exp\",\"+\",\"exp\"],[],0) == None)\n",
    "print (shift([\"exp\",\"+\",\"ANDY LOVES COOKIES\"],2,\"exp\",[\"exp\",\"+\"],[\"exp\"],0) == None)\n"
   ]
  },
  {
   "cell_type": "markdown",
   "metadata": {},
   "source": [
    "# Mine"
   ]
  },
  {
   "cell_type": "code",
   "execution_count": 5,
   "metadata": {},
   "outputs": [
    {
     "name": "stdout",
     "output_type": "stream",
     "text": [
      "True\n",
      "True\n",
      "True\n",
      "True\n"
     ]
    }
   ],
   "source": [
    "def shift2 (tokens, i, x, ab, cd, j):\n",
    "    \n",
    "    if cd != [] and tokens[i] == cd[0]:\n",
    "        \n",
    "        return (x, ab + [cd[0]], cd[1:], j)    #應是以ab & cd為主，因為ab & cd是rules，tokens是input\n",
    "    \n",
    "    else:\n",
    "        \n",
    "        return None\n",
    "        \n",
    "print (shift2([\"exp\",\"+\",\"exp\"],2,\"exp\",[\"exp\",\"+\"],[\"exp\"],0) == ('exp', ['exp', '+', 'exp'], [], 0))\n",
    "print (shift2([\"exp\",\"+\",\"exp\"],0,\"exp\",[],[\"exp\",\"+\",\"exp\"],0) == ('exp', ['exp'], ['+', 'exp'], 0))\n",
    "print (shift2([\"exp\",\"+\",\"exp\"],3,\"exp\",[\"exp\",\"+\",\"exp\"],[],0) == None)\n",
    "print (shift2([\"exp\",\"+\",\"ANDY LOVES COOKIES\"],2,\"exp\",[\"exp\",\"+\"],[\"exp\"],0) == None)\n"
   ]
  }
 ],
 "metadata": {
  "kernelspec": {
   "display_name": "Python 3",
   "language": "python",
   "name": "python3"
  },
  "language_info": {
   "codemirror_mode": {
    "name": "ipython",
    "version": 3
   },
   "file_extension": ".py",
   "mimetype": "text/x-python",
   "name": "python",
   "nbconvert_exporter": "python",
   "pygments_lexer": "ipython3",
   "version": "3.7.3"
  }
 },
 "nbformat": 4,
 "nbformat_minor": 2
}
